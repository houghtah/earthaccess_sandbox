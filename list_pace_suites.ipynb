{
 "cells": [
  {
   "cell_type": "code",
   "execution_count": 3,
   "id": "11a0dad5-fe20-4852-9213-2d7ce0448dcf",
   "metadata": {},
   "outputs": [],
   "source": [
    "import earthaccess\n",
    "\n",
    "import sys\n",
    "sys.path.append(\"functions/\")\n",
    "import read_sat_functions as rs"
   ]
  },
  {
   "cell_type": "code",
   "execution_count": 2,
   "id": "19a20caa-3a9e-43e4-8dbe-6231271c8770",
   "metadata": {},
   "outputs": [],
   "source": [
    "auth = earthaccess.login(persist=True)"
   ]
  },
  {
   "cell_type": "code",
   "execution_count": 4,
   "id": "c14edef4-5574-4f1e-9938-51f9f1eac47f",
   "metadata": {
    "collapsed": true,
    "jupyter": {
     "outputs_hidden": true
    }
   },
   "outputs": [
    {
     "name": "stdout",
     "output_type": "stream",
     "text": [
      "PACE_OCI_L1B_SCI\n",
      "PACE_OCI_L2_AOP\n",
      "PACE_OCI_L2_BGC_NRT\n",
      "PACE_OCI_L0_SCI\n",
      "PACE_OCI_L1A_SCI\n",
      "PACE_OCI_L1C_SCI\n",
      "PACE_OCI_L2_AOP_NRT\n",
      "PACE_OCI_L2_BGC\n",
      "PACE_OCI_L2_CLOUD\n",
      "PACE_OCI_L2_CLOUD_MASK\n",
      "PACE_OCI_L2_CLOUD_MASK_NRT\n",
      "PACE_OCI_L2_CLOUD_NRT\n",
      "PACE_OCI_L2_IOP\n",
      "PACE_OCI_L2_IOP_NRT\n",
      "PACE_OCI_L2_LANDVI\n",
      "PACE_OCI_L2_LANDVI_NRT\n",
      "PACE_OCI_L2_PAR\n",
      "PACE_OCI_L2_PAR_NRT\n",
      "PACE_OCI_L2_SFREFL\n",
      "PACE_OCI_L2_SFREFL_NRT\n",
      "PACE_OCI_L3B_AVW\n",
      "PACE_OCI_L3B_AVW_NRT\n",
      "PACE_OCI_L3B_CARBON\n",
      "PACE_OCI_L3B_CARBON_NRT\n",
      "PACE_OCI_L3B_CHL\n",
      "PACE_OCI_L3B_CHL_NRT\n",
      "PACE_OCI_L3B_FLH\n",
      "PACE_OCI_L3B_FLH_NRT\n",
      "PACE_OCI_L3B_IOP\n",
      "PACE_OCI_L3B_IOP_NRT\n",
      "PACE_OCI_L3B_KD\n",
      "PACE_OCI_L3B_KD_NRT\n",
      "PACE_OCI_L3B_LANDVI\n",
      "PACE_OCI_L3B_LANDVI_NRT\n",
      "PACE_OCI_L3B_PAR\n",
      "PACE_OCI_L3B_PAR_NRT\n",
      "PACE_OCI_L3B_POC\n",
      "PACE_OCI_L3B_POC_NRT\n",
      "PACE_OCI_L3B_RRS\n",
      "PACE_OCI_L3B_RRS_NRT\n",
      "PACE_OCI_L3B_SFREFL\n",
      "PACE_OCI_L3B_SFREFL_NRT\n",
      "PACE_OCI_L3M_AVW\n",
      "PACE_OCI_L3M_AVW_NRT\n",
      "PACE_OCI_L3M_CARBON\n",
      "PACE_OCI_L3M_CARBON_NRT\n",
      "PACE_OCI_L3M_CHL\n",
      "PACE_OCI_L3M_CHL_NRT\n",
      "PACE_OCI_L3M_CLOUD\n",
      "PACE_OCI_L3M_CLOUD_NRT\n",
      "PACE_OCI_L3M_FLH\n",
      "PACE_OCI_L3M_FLH_NRT\n",
      "PACE_OCI_L3M_IOP\n",
      "PACE_OCI_L3M_IOP_NRT\n",
      "PACE_OCI_L3M_KD\n",
      "PACE_OCI_L3M_KD_NRT\n",
      "PACE_OCI_L3M_LANDVI\n",
      "PACE_OCI_L3M_LANDVI_NRT\n",
      "PACE_OCI_L3M_MOANA\n",
      "PACE_OCI_L3M_MOANA_NRT\n",
      "PACE_OCI_L3M_PAR\n",
      "PACE_OCI_L3M_PAR_NRT\n",
      "PACE_OCI_L3M_POC\n",
      "PACE_OCI_L3M_POC_NRT\n",
      "PACE_OCI_L3M_RRS\n",
      "PACE_OCI_L3M_RRS_NRT\n",
      "PACE_OCI_L3M_SFREFL\n",
      "PACE_OCI_L3M_SFREFL_NRT\n"
     ]
    }
   ],
   "source": [
    "results = earthaccess.search_datasets(instrument=\"oci\")\n",
    "for item in results:\n",
    "    summary = item.summary()\n",
    "    print(summary[\"short-name\"])"
   ]
  },
  {
   "cell_type": "code",
   "execution_count": 5,
   "id": "8962dbe9-78ae-493b-acda-d130dd99b3e0",
   "metadata": {},
   "outputs": [
    {
     "name": "stdout",
     "output_type": "stream",
     "text": [
      "PACE_HARP2_L0_D1\n",
      "PACE_HARP2_L0_D2\n",
      "PACE_HARP2_L0_D3\n",
      "PACE_HARP2_L1A_SCI\n",
      "PACE_HARP2_L1B_SCI\n",
      "PACE_HARP2_L1C_SCI\n",
      "PACE_HARP2_L2_CLOUD_GPC\n",
      "PACE_HARP2_L2_CLOUD_GPC_NRT\n",
      "PACE_HARP2_L3M_CLOUD_GPC_NRT\n"
     ]
    }
   ],
   "source": [
    "results = earthaccess.search_datasets(instrument=\"harp2\")\n",
    "for item in results:\n",
    "    summary = item.summary()\n",
    "    print(summary[\"short-name\"])"
   ]
  },
  {
   "cell_type": "code",
   "execution_count": 6,
   "id": "d4185c3e-45f1-41f5-a1d1-bc3bffc1f6b8",
   "metadata": {},
   "outputs": [
    {
     "name": "stdout",
     "output_type": "stream",
     "text": [
      "PACE_SPEXONE_L0\n",
      "PACE_SPEXONE_L1A_SCI\n",
      "PACE_SPEXONE_L1B_SCI\n",
      "PACE_SPEXONE_L1C_SCI\n",
      "PACE_SPEXONE_L2_AER_RTAPLAND\n",
      "PACE_SPEXONE_L2_AER_RTAPLAND_NRT\n",
      "PACE_SPEXONE_L2_AER_RTAPOCEAN\n",
      "PACE_SPEXONE_L2_AER_RTAPOCEAN_NRT\n",
      "PACE_SPEXONE_L3M_AER_RTAP\n",
      "PACE_SPEXONE_L3M_AER_RTAPLAND\n",
      "PACE_SPEXONE_L3M_AER_RTAPLAND_NRT\n",
      "PACE_SPEXONE_L3M_AER_RTAPOCEAN\n",
      "PACE_SPEXONE_L3M_AER_RTAPOCEAN_NRT\n",
      "PACE_SPEXONE_L3M_AER_RTAP_NRT\n"
     ]
    }
   ],
   "source": [
    "results = earthaccess.search_datasets(instrument=\"spexone\")\n",
    "for item in results:\n",
    "    summary = item.summary()\n",
    "    print(summary[\"short-name\"])"
   ]
  },
  {
   "cell_type": "code",
   "execution_count": null,
   "id": "698df902-071f-418d-b385-13aeb279de34",
   "metadata": {},
   "outputs": [],
   "source": []
  }
 ],
 "metadata": {
  "kernelspec": {
   "display_name": "Python 3 (ipykernel)",
   "language": "python",
   "name": "python3"
  },
  "language_info": {
   "codemirror_mode": {
    "name": "ipython",
    "version": 3
   },
   "file_extension": ".py",
   "mimetype": "text/x-python",
   "name": "python",
   "nbconvert_exporter": "python",
   "pygments_lexer": "ipython3",
   "version": "3.11.11"
  }
 },
 "nbformat": 4,
 "nbformat_minor": 5
}
